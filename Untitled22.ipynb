{
  "nbformat": 4,
  "nbformat_minor": 0,
  "metadata": {
    "colab": {
      "name": "Untitled22.ipynb",
      "provenance": []
    },
    "kernelspec": {
      "name": "python3",
      "display_name": "Python 3"
    },
    "language_info": {
      "name": "python"
    }
  },
  "cells": [
    {
      "cell_type": "code",
      "metadata": {
        "id": "Xc_-jsOmSI5K"
      },
      "source": [
        "from bs4 import BeautifulSoup\n",
        "import requests\n",
        "import pandas as pd\n",
        "import numpy as np\n",
        "import csv"
      ],
      "execution_count": null,
      "outputs": []
    },
    {
      "cell_type": "code",
      "metadata": {
        "id": "pLwRhrVtSKsn"
      },
      "source": [
        "df = pd.read_csv('ktm.csv')\n",
        "df.shape\n",
        "df"
      ],
      "execution_count": null,
      "outputs": []
    },
    {
      "cell_type": "code",
      "metadata": {
        "id": "dwLPST3xYwkW"
      },
      "source": [
        "import folium # Map plotting library\n",
        "import numpy as np\n",
        "from pandas.io.json import json_normalize # Tranform JSON file into a pandas dataframe\n",
        "\n",
        "# Matplotlib and associated plotting modules\n",
        "import matplotlib.cm as cm\n",
        "import matplotlib.colors as colors\n",
        "\n",
        "# Import k-means from clustering stage\n",
        "from sklearn.cluster import KMeans\n",
        "\n",
        "%matplotlib inline"
      ],
      "execution_count": null,
      "outputs": []
    },
    {
      "cell_type": "code",
      "metadata": {
        "id": "iPRqRGcXY4v8"
      },
      "source": [
        "CLIENT_ID = 'RLTKJS2UFVSTBCUQBBB4FASHY2A0YFTH5TBBMR03FCQ2THLV' # your Foursquare ID\n",
        "CLIENT_SECRET = '1NOCRO4CAYGRDJSXPZ3HXYLIZTELNM2TT1QTYV5TD4L5QJWJ' # your Foursquare Secret\n",
        "ACCESS_TOKEN = '5ZKC3T5R343SLJCFH42ZC5YGTCILV34LRXKO22SMNGQZ2KXZ' # your FourSquare Access Token\n",
        "VERSION = '20180604'\n",
        "LIMIT = 30\n",
        "print('Your credentails:')\n",
        "print('CLIENT_ID: ' + CLIENT_ID)\n",
        "print('CLIENT_SECRET:' + CLIENT_SECRET)"
      ],
      "execution_count": null,
      "outputs": []
    },
    {
      "cell_type": "code",
      "metadata": {
        "id": "SGVe_G19Y5j9"
      },
      "source": [
        "ktm_lat = 27.7172\n",
        "ktm_lng = 85.3240\n",
        "\n",
        "# Creates map of Kathmandu using latitude and longitude values\n",
        "map_ktm = folium.Map(location=[ktm_lat, ktm_lng], zoom_start=12)\n",
        "\n",
        "# Add markers to map\n",
        "for lat, lng, neighbourhood in zip(df['Latitude'], df['Longitude'], df['Neighbourhood']):\n",
        "    label = '{}'.format(neighbourhood)\n",
        "    label = folium.Popup(label, parse_html=True)\n",
        "    folium.CircleMarker(\n",
        "        [lat, lng],\n",
        "        radius=5,\n",
        "        popup=label,\n",
        "        color='blue',\n",
        "        fill=True,\n",
        "        fill_color='#3186cc',\n",
        "        fill_opacity=0.7,\n",
        "        parse_html=False).add_to(map_ktm)  \n",
        "    \n",
        "map_ktm"
      ],
      "execution_count": null,
      "outputs": []
    },
    {
      "cell_type": "code",
      "metadata": {
        "id": "Zpo3LtHBY833"
      },
      "source": [
        "def get_category_type(row):\n",
        "    categories_list = row['Category']  \n",
        "    \n",
        "    if len(categories_list) == 0:\n",
        "        return None\n",
        "    else:\n",
        "        return categories_list[0]['name']"
      ],
      "execution_count": null,
      "outputs": []
    },
    {
      "cell_type": "code",
      "metadata": {
        "id": "gM1eZ1LjY_cB"
      },
      "source": [
        "explore_df_list = []\n",
        "\n",
        "for i, nbd_name in enumerate(df['Neighbourhood']):  \n",
        "    \n",
        "    try :\n",
        "        ### Getting the data of neighbourhood\n",
        "        nbd_name = df.loc[i, 'Neighbourhood']\n",
        "        nbd_lat = df.loc[i, 'Latitude']\n",
        "        nbd_lng = df.loc[i, 'Longitude']\n",
        "\n",
        "        radius = 1000 # Setting the radius as 1000 metres\n",
        "        LIMIT = 30 # Getting the top 30 venues\n",
        "\n",
        "        url = 'https://api.foursquare.com/v2/venues/explore?client_id={} \\\n",
        "        &client_secret={}&ll={},{}&v={}&radius={}&limit={}'\\\n",
        "        .format(CLIENT_ID, CLIENT_SECRET, nbd_lat, nbd_lng, VERSION, radius, LIMIT)\n",
        "        #url = 'https://api.foursquare.com/v2/venues/explore?client_id={} &client_secret={}&ll={},{}&oauth_token={}&v={}&query={}&radius={}&limit={}'.format(CLIENT_ID, CLIENT_SECRET, latitude, longitude,ACCESS_TOKEN, VERSION, search_query, radius, LIMIT)\n",
        "\n",
        "\n",
        "        results = json.loads(requests.get(url).text)\n",
        "        results = results['response']['groups'][0]['items']\n",
        "\n",
        "        nearby = json_normalize(results) # Flattens JSON\n",
        "\n",
        "        # Filtering the columns\n",
        "        filtered_columns = ['venue.name', 'venue.categories', 'venue.location.lat', 'venue.location.lng']\n",
        "        nearby = nearby.loc[:, filtered_columns]\n",
        "\n",
        "        # Renaming the columns\n",
        "        columns = ['Name', 'Category', 'Latitude', 'Longitude']\n",
        "        nearby.columns = columns\n",
        "\n",
        "        # Gets the categories\n",
        "        nearby['Category'] = nearby.apply(get_category_type, axis=1)    \n",
        "\n",
        "        # Gets the data required\n",
        "        for i, name in enumerate(nearby['Name']):\n",
        "            s_list = nearby.loc[i, :].values.tolist()  # Converts the numpy array to a python list\n",
        "            f_list = [nbd_name, nbd_lat, nbd_lng] + s_list\n",
        "            explore_df_list.append(f_list)\n",
        "    \n",
        "    except Exception as e:\n",
        "        pass"
      ],
      "execution_count": null,
      "outputs": []
    },
    {
      "cell_type": "code",
      "metadata": {
        "id": "5RkI8Hh5ZV9f"
      },
      "source": [
        "explore_df = pd.DataFrame([item for item in explore_df_list])\n",
        "explore_df.columns = ['Neighbourhood', 'Neighbourhood Latitude', 'Neighbourhood Longitude', 'Venue Name', 'Venue Category', 'Venue Latitude', 'Venue Longitude']\n",
        "explore_df.head()"
      ],
      "execution_count": null,
      "outputs": []
    },
    {
      "cell_type": "code",
      "metadata": {
        "id": "xT6w_ZixZY34"
      },
      "source": [
        "explore_df.shape"
      ],
      "execution_count": null,
      "outputs": []
    },
    {
      "cell_type": "code",
      "metadata": {
        "id": "L7umYNr_Za5g"
      },
      "source": [
        "ktm_onehot = pd.get_dummies(explore_df[['Venue Category']], prefix=\"\", prefix_sep=\"\")\n",
        "\n",
        "# Add neighborhood column back to dataframe\n",
        "ktm_onehot['Neighbourhood'] = explore_df['Neighbourhood'] \n",
        "\n",
        "# Move neighborhood column to the first column\n",
        "fixed_columns = [ktm_onehot.columns[-1]] + ktm_onehot.columns[:-1].values.tolist()\n",
        "ktm_onehot = ktm_onehot[fixed_columns]\n",
        "\n",
        "ktm_onehot.head()"
      ],
      "execution_count": null,
      "outputs": []
    },
    {
      "cell_type": "code",
      "metadata": {
        "id": "PN2fC6NDZiqH"
      },
      "source": [
        "ktm_grouped = ktm_onehot.groupby('Neighbourhood').mean().reset_index()\n",
        "ktm_grouped.head()"
      ],
      "execution_count": null,
      "outputs": []
    },
    {
      "cell_type": "code",
      "metadata": {
        "id": "4ABkg50LZk2X"
      },
      "source": [
        "def return_most_common_venues(row, num_top_venues):\n",
        "    row_categories = row.iloc[1:]\n",
        "    row_categories_sorted = row_categories.sort_values(ascending=False)\n",
        "    \n",
        "    return row_categories_sorted.index.values[0:num_top_venues]"
      ],
      "execution_count": null,
      "outputs": []
    },
    {
      "cell_type": "code",
      "metadata": {
        "id": "w1eWAuijZm5g"
      },
      "source": [
        "num_top_venues = 10\n",
        "indicators = ['st', 'nd', 'rd']\n",
        "\n",
        "# Create columns according to number of top venues\n",
        "columns = ['Neighbourhood']\n",
        "for ind in np.arange(num_top_venues):\n",
        "    try:\n",
        "        columns.append('{}{} Most Common Venue'.format(ind+1, indicators[ind]))\n",
        "    except:\n",
        "        columns.append('{}th Most Common Venue'.format(ind+1))\n",
        "\n",
        "# Create a new dataframe\n",
        "neighbourhoods_venues_sorted = pd.DataFrame(columns=columns)\n",
        "neighbourhoods_venues_sorted['Neighbourhood'] = ktm_grouped['Neighbourhood']\n",
        "\n",
        "for ind in np.arange(ktm_grouped.shape[0]):\n",
        "    neighbourhoods_venues_sorted.iloc[ind, 1:] = return_most_common_venues(ktm_grouped.iloc[ind, :], num_top_venues)\n",
        "\n",
        "neighbourhoods_venues_sorted.head()"
      ],
      "execution_count": null,
      "outputs": []
    },
    {
      "cell_type": "code",
      "metadata": {
        "id": "0aCCLgcJZpIg"
      },
      "source": [
        "ktm_grouped_clustering = ktm_grouped.drop('Neighbourhood', 1)"
      ],
      "execution_count": null,
      "outputs": []
    },
    {
      "cell_type": "code",
      "metadata": {
        "id": "IdQFQl3cZrCX"
      },
      "source": [
        "import matplotlib.pyplot as plt\n",
        "%matplotlib inline\n",
        "\n",
        "def plot(x, y, xlabel, ylabel):\n",
        "    plt.figure(figsize=(20,10))\n",
        "    plt.plot(np.arange(2, x), y, 'o-')\n",
        "    plt.xlabel(xlabel)\n",
        "    plt.ylabel(ylabel)\n",
        "    plt.xticks(np.arange(2, x))\n",
        "    plt.show()"
      ],
      "execution_count": null,
      "outputs": []
    },
    {
      "cell_type": "code",
      "metadata": {
        "id": "0t8dOOsrZtBw"
      },
      "source": [
        "max_range = 13"
      ],
      "execution_count": null,
      "outputs": []
    },
    {
      "cell_type": "code",
      "metadata": {
        "id": "KZA1tEnSZt0I"
      },
      "source": [
        "from sklearn.metrics import silhouette_samples, silhouette_score\n",
        "\n",
        "indices = []\n",
        "scores = []\n",
        "\n",
        "for kclusters in range(2, max_range) :\n",
        "    \n",
        "    # Run k-means clustering\n",
        "    kgc = ktm_grouped_clustering\n",
        "    kmeans = KMeans(n_clusters = kclusters, init = 'k-means++', random_state = 0).fit_predict(kgc)\n",
        "    \n",
        "    # Gets the score for the clustering operation performed\n",
        "    score = silhouette_score(kgc, kmeans)\n",
        "    \n",
        "    # Appending the index and score to the respective lists\n",
        "    indices.append(kclusters)\n",
        "    scores.append(score)"
      ],
      "execution_count": null,
      "outputs": []
    },
    {
      "cell_type": "code",
      "metadata": {
        "id": "_vpN-6a9Zv1w"
      },
      "source": [
        "plot(max_range, scores, \"No. of clusters\", \"Silhouette Score\")"
      ],
      "execution_count": null,
      "outputs": []
    },
    {
      "cell_type": "code",
      "metadata": {
        "id": "1PnWZCcpZx_v"
      },
      "source": [
        "opt = np.argmax(scores) + 2 # Finds the optimal value\n",
        "opt "
      ],
      "execution_count": null,
      "outputs": []
    },
    {
      "cell_type": "code",
      "metadata": {
        "id": "ZBrIAm2qZ1yn"
      },
      "source": [
        "kclusters = opt\n",
        "\n",
        "# Run k-means clustering\n",
        "kgc = ktm_grouped_clustering\n",
        "kmeans = KMeans(n_clusters = kclusters, init = 'k-means++', random_state = 0).fit(kgc)"
      ],
      "execution_count": null,
      "outputs": []
    },
    {
      "cell_type": "code",
      "metadata": {
        "id": "khid5vgxZ3bJ"
      },
      "source": [
        "neighbourhoods_venues_sorted.insert(0, 'Cluster Labels', kmeans.labels_)"
      ],
      "execution_count": null,
      "outputs": []
    },
    {
      "cell_type": "code",
      "metadata": {
        "id": "rMrEEzlVZ5H3"
      },
      "source": [
        "ktm_merged = df\n",
        "ktm_merged = ktm_merged.join(neighbourhoods_venues_sorted.set_index('Neighbourhood'), on='Neighbourhood')\n",
        "ktm_merged.dropna(inplace = True)\n",
        "ktm_merged['Cluster Labels'] = ktm_merged['Cluster Labels'].astype(int)\n",
        "ktm_merged.head()"
      ],
      "execution_count": null,
      "outputs": []
    },
    {
      "cell_type": "code",
      "metadata": {
        "id": "jN_B-Zm8Z7An"
      },
      "source": [
        "ktm_merged"
      ],
      "execution_count": null,
      "outputs": []
    },
    {
      "cell_type": "code",
      "metadata": {
        "id": "nAXMdt2lZ-HP"
      },
      "source": [
        "map_clusters = folium.Map(location=[ktm_lat, ktm_lng], zoom_start=12)\n",
        "\n",
        "# Set color scheme for the clusters\n",
        "x = np.arange(kclusters)\n",
        "ys = [i + x + (i*x)**2 for i in range(kclusters)]\n",
        "colors_array = cm.rainbow(np.linspace(0, 1, len(ys)))\n",
        "rainbow = [colors.rgb2hex(i) for i in colors_array]\n",
        "\n",
        "# Add markers to the map\n",
        "markers_colors = []\n",
        "for lat, lon, poi, cluster in zip(ktm_merged['Latitude'], ktm_merged['Longitude'], ktm_merged['Neighbourhood'], ktm_merged['Cluster Labels']):\n",
        "    label = folium.Popup(str(poi) + ' (Cluster ' + str(cluster + 1) + ')', parse_html=True)\n",
        "    map_clusters.add_child(\n",
        "        folium.features.CircleMarker(\n",
        "        [lat, lon],\n",
        "        radius=5,\n",
        "        popup=label,\n",
        "        color=rainbow[cluster-1],\n",
        "        fill=True,\n",
        "        fill_color=rainbow[cluster-1],\n",
        "        fill_opacity=0.7))\n",
        "       \n",
        "map_clusters"
      ],
      "execution_count": null,
      "outputs": []
    },
    {
      "cell_type": "code",
      "metadata": {
        "id": "i9bq9qHhaApH"
      },
      "source": [
        "val = 2\n",
        "ktm_merged.loc[ktm_merged['Cluster Labels'] == (val - 1), ktm_merged.columns[[0] + np.arange(4, ktm_merged.shape[1]).tolist()]]"
      ],
      "execution_count": null,
      "outputs": []
    },
    {
      "cell_type": "markdown",
      "metadata": {
        "id": "W1jvRlkNaFM4"
      },
      "source": [
        "<h1>THANK YOU</h1>"
      ]
    }
  ]
}